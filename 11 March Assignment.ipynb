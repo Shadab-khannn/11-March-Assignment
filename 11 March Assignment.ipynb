{
 "cells": [
  {
   "cell_type": "code",
   "execution_count": null,
   "id": "5b9ef05f-df2c-4d8f-9bd3-b15439540caa",
   "metadata": {},
   "outputs": [],
   "source": [
    "Q1: What is the difference between a t-test and a z-test? Provide an example scenario where you would\n",
    "use each type of test."
   ]
  },
  {
   "cell_type": "markdown",
   "id": "ecc61a2f-e23c-4584-b0ce-2bd9d987c6c7",
   "metadata": {},
   "source": [
    "ANS - "
   ]
  },
  {
   "cell_type": "code",
   "execution_count": null,
   "id": "926bb03e-fd61-46eb-8b4e-ff6bf287d0a3",
   "metadata": {},
   "outputs": [],
   "source": [
    "    The z test uses a normal distribution while the t test uses the Students t distribution. Degrees of freedom are needed in t \n",
    "testing, not in z testing. The z statistic is calculated with the standard error. The t statistic uses the estimated standard error.\n",
    "The z test is used for testing proportions when np > 10 and n (1 - p) > 10. \n",
    "\n",
    "    The main difference between a t-test and a z-test is that a t-test is used when the sample size is small and the population \n",
    "standard deviation is unknown, while a z-test is used when the sample size is large and the population standard deviation is known. \n",
    "\n",
    "For example, if you want to compare the average height of two groups of people (say, men and women), you can use a t-test if you have\n",
    "a small sample size (less than 30) and dont know the population standard deviation. On the other hand, if you have a large sample \n",
    "size (more than 30) and know the population standard deviation, you can use a z-test².\n",
    "\n"
   ]
  },
  {
   "cell_type": "code",
   "execution_count": null,
   "id": "63fc6b0e-6d8f-4922-b395-aa89fb02c87b",
   "metadata": {},
   "outputs": [],
   "source": []
  },
  {
   "cell_type": "code",
   "execution_count": null,
   "id": "e79a3614-e26e-4ec3-9b3c-b1e451901827",
   "metadata": {},
   "outputs": [],
   "source": []
  },
  {
   "cell_type": "code",
   "execution_count": null,
   "id": "9abd23f0-ff43-4d16-a5e9-816a76c3d261",
   "metadata": {},
   "outputs": [],
   "source": [
    "Q2: Differentiate between one-tailed and two-tailed tests."
   ]
  },
  {
   "cell_type": "markdown",
   "id": "b5470a61-b57d-46e2-bb1a-8aebcf61c0ea",
   "metadata": {},
   "source": [
    "ANS - "
   ]
  },
  {
   "cell_type": "code",
   "execution_count": null,
   "id": "fab43f9e-8ae4-45bf-af2a-e47e42ba5394",
   "metadata": {},
   "outputs": [],
   "source": [
    "      One and Two-Tailed Tests are ways to identify the relationship between the statistical variables. For checking the relationship \n",
    "between variables in a single direction (Left or Right direction), we use a one-tailed test. A two-tailed test is used for checking \n",
    "whether the relations between variables are in any direction or not.\n",
    "\n",
    "One-Tailed Test :\n",
    "                    A one-tailed test is based on a uni-directional hypothesis where the area of rejection is on only one side of the\n",
    "sampling distribution. It determines whether a particular population parameter is larger or smaller than the predefined parameter.\n",
    "It uses one single critical value to test the data."
   ]
  },
  {
   "cell_type": "code",
   "execution_count": null,
   "id": "1e565010-bced-48b8-9a21-27f6e7b94e54",
   "metadata": {},
   "outputs": [],
   "source": [
    "Two-Tailed Test :\n",
    "                      A two-tailed test is also called a nondirectional hypothesis. For checking whether the sample is greater or less\n",
    "than a range of values, we use the two-tailed. It is used for null hypothesis testing."
   ]
  },
  {
   "cell_type": "code",
   "execution_count": null,
   "id": "0cb2cd7c-381f-49b6-964c-a9be338237c5",
   "metadata": {},
   "outputs": [],
   "source": []
  },
  {
   "cell_type": "code",
   "execution_count": null,
   "id": "a7305588-a24a-4f03-a13d-80779a72c555",
   "metadata": {},
   "outputs": [],
   "source": []
  },
  {
   "cell_type": "code",
   "execution_count": null,
   "id": "e3e6deb3-bee8-475c-a52f-ccb55e3a1d3d",
   "metadata": {},
   "outputs": [],
   "source": [
    "Q3: Explain the concept of Type 1 and Type 2 errors in hypothesis testing. Provide an example scenario for\n",
    "each type of error."
   ]
  },
  {
   "cell_type": "markdown",
   "id": "3e2102ec-bc6b-4296-824c-0bec9ff3d72d",
   "metadata": {},
   "source": [
    "ANS - "
   ]
  },
  {
   "cell_type": "code",
   "execution_count": null,
   "id": "58ab68e7-0907-4fee-8dda-f6ec12603f34",
   "metadata": {},
   "outputs": [],
   "source": [
    "            In hypothesis testing, a Type 1 error occurs when the null hypothesis is rejected even though it is true. A Type 2 error \n",
    "occurs when the null hypothesis is not rejected even though it is false.\n",
    "\n",
    "   For example, let’s say a pharmaceutical company is testing a new drug that they claim can cure a disease with 95% confidence.\n",
    "The null hypothesis would be that the drug does not cure the disease. If the company rejects the null hypothesis and claims that\n",
    "the drug cures the disease when it actually does not, this would be a Type 1 error. On the other hand, if the company fails to \n",
    "reject the null hypothesis and claims that the drug does not cure the disease when it actually does, this would be a Type 2 error."
   ]
  },
  {
   "cell_type": "code",
   "execution_count": null,
   "id": "21858e42-0301-4a7e-903d-c17622861a54",
   "metadata": {},
   "outputs": [],
   "source": []
  },
  {
   "cell_type": "code",
   "execution_count": null,
   "id": "f648f55f-33cd-49a4-b17b-b89f7427fbbc",
   "metadata": {},
   "outputs": [],
   "source": []
  },
  {
   "cell_type": "code",
   "execution_count": null,
   "id": "6649857a-d4e3-45bd-92a1-2eb2c55eeb23",
   "metadata": {},
   "outputs": [],
   "source": [
    "Q4: Explain Bayess theorem with an example."
   ]
  },
  {
   "cell_type": "markdown",
   "id": "c30ce63e-dc3d-4c8b-ad01-22463b6441c1",
   "metadata": {},
   "source": [
    "ANS - "
   ]
  },
  {
   "cell_type": "code",
   "execution_count": null,
   "id": "0ee57db5-6822-48f5-9e0d-9d894629a9a1",
   "metadata": {},
   "outputs": [],
   "source": [
    "                 Bayes’ theorem describes the probability of occurrence of an event related to any condition. It is also considered \n",
    "for the case of conditional probability. Bayes theorem is also known as the formula for the probability of “causes”. \n",
    "\n",
    "For example: if we have to calculate the probability of taking a blue ball from the second bag out of three different bags of balls,\n",
    "where each bag contains three different colour balls viz. red, blue, black. In this case, the probability of occurrence of an event\n",
    "is calculated depending on other conditions is known as conditional probability. "
   ]
  },
  {
   "cell_type": "code",
   "execution_count": null,
   "id": "96067291-c568-4606-844a-3471560273c8",
   "metadata": {},
   "outputs": [],
   "source": []
  },
  {
   "cell_type": "code",
   "execution_count": null,
   "id": "c3906706-751c-44ce-b4fe-0daa8205ec64",
   "metadata": {},
   "outputs": [],
   "source": []
  },
  {
   "cell_type": "code",
   "execution_count": null,
   "id": "a5a68d80-e823-4e3e-aab8-f1897ece1616",
   "metadata": {},
   "outputs": [],
   "source": [
    "Q5: What is a confidence interval? How to calculate the confidence interval, explain with an example."
   ]
  },
  {
   "cell_type": "markdown",
   "id": "dc44dbe6-cb93-4103-bbeb-6b6258e84ccd",
   "metadata": {},
   "source": [
    "ANS -"
   ]
  },
  {
   "cell_type": "code",
   "execution_count": null,
   "id": "b66086a6-cf8f-48ed-b25b-ee6d65a2319d",
   "metadata": {},
   "outputs": [],
   "source": [
    "      A confidence interval is a range of values that we can be confident contains the true population parameter with a certain\n",
    "degree of certainty¹. It is calculated using a formula that takes into account the sample size, sample mean, and standard deviation. \n",
    "\n",
    "The formula for calculating a confidence interval is as follows:\n",
    "\n",
    "    Confidence interval (CI) = ‾X ± Z (S ÷ √n)\n",
    "\n",
    "Where:\n",
    "    \n",
    "- X represents the sample mean\n",
    "- Z represents the Z-value you get from the normal standard distribution\n",
    "- S is the population standard deviation\n",
    "- n represents the sample size youre surveying\n",
    "\n",
    "example of how to calculate a confidence interval:\n",
    "    \n",
    "1. Find the sample mean by adding up all the values in your data set and dividing the sum by the number of values in the sample.\n",
    "2. Calculate the standard deviation of your sample.\n",
    "3. Determine your desired level of confidence (e.g., 95%).\n",
    "4. Look up the corresponding Z-value for your desired level of confidence in a Z-table.\n",
    "5. Plug in your values into the formula above.\n",
    "\n"
   ]
  },
  {
   "cell_type": "code",
   "execution_count": null,
   "id": "624f4393-3753-4fd1-928b-19095e56f8c4",
   "metadata": {},
   "outputs": [],
   "source": []
  },
  {
   "cell_type": "code",
   "execution_count": null,
   "id": "85b9809a-a8b5-40e5-815a-c10b8827b4d2",
   "metadata": {},
   "outputs": [],
   "source": []
  },
  {
   "cell_type": "code",
   "execution_count": null,
   "id": "5b0499a2-7910-4934-bd8f-a19d359db5d8",
   "metadata": {},
   "outputs": [],
   "source": [
    "Q6. Use Bayes Theorem to calculate the probability of an event occurring given prior knowledge of the\n",
    "events probability and new evidence. Provide a sample problem and solution."
   ]
  },
  {
   "cell_type": "markdown",
   "id": "f3c4d7a3-791e-47be-934e-b513077f0e6b",
   "metadata": {},
   "source": [
    "ANS -"
   ]
  },
  {
   "cell_type": "code",
   "execution_count": null,
   "id": "9a81b6a9-bb54-4878-8039-aeb32030c0ef",
   "metadata": {},
   "outputs": [],
   "source": [
    "            Bayes’ Theorem is a mathematical formula for determining conditional probability. It describes the probability of an event\n",
    "based on prior knowledge of conditions that might be related to the event. The formula is named after Thomas Bayes, an 18th-century \n",
    "British mathematician.\n",
    "\n",
    "Here’s a sample problem and solution using Bayes’ Theorem:\n",
    "\n",
    "Suppose there are two factories that produce light bulbs: Factory A and Factory B. Factory A produces 60% of all light bulbs and \n",
    "Factory B produces 40%. Of the light bulbs produced by Factory A, 5% are defective, while 10% of those produced by Factory B are \n",
    "defective. If a light bulb is chosen at random and found to be defective, what is the probability that it was produced by Factory A?\n",
    "\n",
    "  Let D be the event that a bulb is defective and A be the event that it was produced by Factory A. We want to find P(A|D), which is\n",
    "the probability that a bulb was produced by Factory A given that it was found to be defective. Using Bayes’ Theorem, we have:\n",
    "\n",
    "P(A|D) = P(D|A) * P(A) / P(D)\n",
    "\n",
    "   where P(D|A) = 0.05 (the probability that a bulb produced by Factory A is defective) P(A) = 0.6 (the probability that a bulb was \n",
    "produced by Factory A) P(D) = P(D|A) * P(A) + P(D|B) * P(B) = 0.05 * 0.6 + 0.1 * 0.4 = 0.07\n",
    "\n",
    "Therefore,\n",
    "\n",
    "P(A|D) = (0.05 * 0.6) / 0.07 = 0.43\n",
    "\n",
    "So there’s a 43% chance that the defective bulb was produced by Factory A."
   ]
  },
  {
   "cell_type": "code",
   "execution_count": null,
   "id": "32f72bdd-d5b3-441c-98a0-5839ab3f1d8a",
   "metadata": {},
   "outputs": [],
   "source": []
  },
  {
   "cell_type": "code",
   "execution_count": null,
   "id": "d70ca53d-3cc8-476b-ac44-81743cddaf58",
   "metadata": {},
   "outputs": [],
   "source": []
  },
  {
   "cell_type": "code",
   "execution_count": null,
   "id": "c112f2f4-20e1-41f0-be5a-9a224ae62afa",
   "metadata": {},
   "outputs": [],
   "source": [
    "Q7. Calculate the 95% confidence interval for a sample of data with a mean of 50 and a standard deviation\n",
    "of 5. Interpret the results."
   ]
  },
  {
   "cell_type": "markdown",
   "id": "2f36d1a0-5de8-485f-9010-cca15fe782c9",
   "metadata": {},
   "source": [
    "ANS -"
   ]
  },
  {
   "cell_type": "code",
   "execution_count": null,
   "id": "b7554cc4-c7e9-437b-a5e3-205e507239bb",
   "metadata": {},
   "outputs": [],
   "source": [
    "     The formula for calculating a 95% confidence interval for a sample of data with a mean of 50 and a standard deviation of 5 is:"
   ]
  },
  {
   "cell_type": "code",
   "execution_count": null,
   "id": "580a3209-5ad4-4467-a84f-2c6cefc00b4d",
   "metadata": {},
   "outputs": [],
   "source": [
    "95% confidence interval = mean ± (1.96 * (standard deviation / sqrt(sample size)))\n"
   ]
  },
  {
   "cell_type": "code",
   "execution_count": null,
   "id": "83499e04-092b-403a-884d-7cb3ec186b75",
   "metadata": {},
   "outputs": [],
   "source": [
    "50 ± (1.96 * (5 / sqrt(sample size)))"
   ]
  },
  {
   "cell_type": "code",
   "execution_count": null,
   "id": "a8c4276e-1cfa-4ec1-bdfb-d4fda78e5163",
   "metadata": {},
   "outputs": [],
   "source": [
    "        The interpretation of the results is that if we were to take many samples of the same size from this population and calculate\n",
    "a 95% confidence interval for each sample, then approximately 95% of those intervals would contain the true population mean."
   ]
  },
  {
   "cell_type": "code",
   "execution_count": null,
   "id": "48ae8286-bf9e-4a84-83e5-eb6d9e322c6e",
   "metadata": {},
   "outputs": [],
   "source": []
  },
  {
   "cell_type": "code",
   "execution_count": null,
   "id": "69214dd1-044e-4c07-a428-af367d1c7a6f",
   "metadata": {},
   "outputs": [],
   "source": []
  },
  {
   "cell_type": "code",
   "execution_count": null,
   "id": "a51b6e12-003b-4879-ac6f-2c7693bcafe7",
   "metadata": {},
   "outputs": [],
   "source": [
    "Q8. What is the margin of error in a confidence interval? How does sample size affect the margin of error?\n",
    "Provide an example of a scenario where a larger sample size would result in a smaller margin of error."
   ]
  },
  {
   "cell_type": "markdown",
   "id": "844135ee-b22d-4237-b95b-763346a1a170",
   "metadata": {},
   "source": [
    "ANS - "
   ]
  },
  {
   "cell_type": "code",
   "execution_count": null,
   "id": "608a07b9-efa5-4242-8f00-d5dbfb932314",
   "metadata": {},
   "outputs": [],
   "source": [
    "          The margin of error (MOE) is a measure of the accuracy of an estimate based on a sample of data. It is defined as the range \n",
    "of values above and below the sample statistic in a confidence interval (CI) that is expected to contain the population parameter \n",
    "with a certain degree of confidence1. The MOE decreases as the sample size increases because larger samples provide more information\n",
    "about the population and reduce sampling error.\n",
    "\n",
    "       For example, suppose we want to estimate the proportion of people who support a particular political candidate in an election.\n",
    "    \n",
    "We take a random sample of 500 voters and find that 60% of them support the candidate. We construct a 95% confidence interval for the\n",
    "true proportion using the formula CI = x̄ ± z* (s/√n), where x̄ is the sample mean, s is the sample standard deviation,\n",
    "n is the sample size, and z* is the z-score corresponding to the desired level of confidence (1.96 for 95%)1. \n",
    "The MOE for this interval is given by z* (s/√n), which equals 0.04 or 4%1. If we had taken a larger sample of 1000 voters instead,\n",
    "then our MOE would have been smaller at 0.03 or 3%."
   ]
  },
  {
   "cell_type": "code",
   "execution_count": null,
   "id": "3c17ed1b-e21a-4d79-8991-a3ca76b1b4f1",
   "metadata": {},
   "outputs": [],
   "source": []
  },
  {
   "cell_type": "code",
   "execution_count": null,
   "id": "d5c001fd-2c5d-4228-8874-07b7a5165040",
   "metadata": {},
   "outputs": [],
   "source": []
  },
  {
   "cell_type": "code",
   "execution_count": null,
   "id": "81717725-7204-4639-9a36-2174363fa541",
   "metadata": {},
   "outputs": [],
   "source": [
    "Q9. Calculate the z-score for a data point with a value of 75, a population mean of 70, and a population\n",
    "standard deviation of 5. Interpret the results."
   ]
  },
  {
   "cell_type": "markdown",
   "id": "32f1b0df-0ad4-4ac2-879f-7d822100175d",
   "metadata": {},
   "source": [
    "ANS - "
   ]
  },
  {
   "cell_type": "code",
   "execution_count": null,
   "id": "e62e8fbf-0a0d-40da-a6fd-dae260a88930",
   "metadata": {},
   "outputs": [],
   "source": [
    "           The formula for calculating a z-score is z = (x-μ)/σ, where x is the raw score, μ is the population mean, and σ is the\n",
    "population standard deviation¹. \n",
    "\n",
    "   Using this formula, we can calculate the z-score for a data point with a value of 75, a population mean of 70, and a population\n",
    "standard deviation of 5 as follows:"
   ]
  },
  {
   "cell_type": "code",
   "execution_count": 13,
   "id": "8436e10b-b04e-48df-912e-77ea0a9654e0",
   "metadata": {},
   "outputs": [
    {
     "data": {
      "text/plain": [
       "1.0"
      ]
     },
     "execution_count": 13,
     "metadata": {},
     "output_type": "execute_result"
    }
   ],
   "source": [
    "z=(75 - 70) / 5 "
   ]
  },
  {
   "cell_type": "code",
   "execution_count": null,
   "id": "7af1db65-5858-480c-a1d1-71420349d4f2",
   "metadata": {},
   "outputs": [],
   "source": [
    "The z-score of this data point is 1.\n",
    "       Interpreting the results: A z-score of 1 indicates that this data point is one standard deviation above the mean."
   ]
  },
  {
   "cell_type": "code",
   "execution_count": null,
   "id": "8e5d6402-542a-4bb5-9ce9-bf169a3ab481",
   "metadata": {},
   "outputs": [],
   "source": []
  },
  {
   "cell_type": "code",
   "execution_count": null,
   "id": "7707dbbf-e6d0-4571-bad6-27fd1b387507",
   "metadata": {},
   "outputs": [],
   "source": []
  },
  {
   "cell_type": "code",
   "execution_count": null,
   "id": "6cba9ba5-1634-4a97-832b-b2f6a7d920d6",
   "metadata": {},
   "outputs": [],
   "source": [
    "Q10. In a study of the effectiveness of a new weight loss drug, a sample of 50 participants lost an average\n",
    "of 6 pounds with a standard deviation of 2.5 pounds. Conduct a hypothesis test to determine if the drug is\n",
    "significantly effective at a 95% confidence level using a t-test."
   ]
  },
  {
   "cell_type": "markdown",
   "id": "9756cb30-4584-4317-840c-ca23ca7027ec",
   "metadata": {},
   "source": [
    "ANS - "
   ]
  },
  {
   "cell_type": "code",
   "execution_count": null,
   "id": "65f9875d-88a1-42cf-88ad-1217468ce4ee",
   "metadata": {},
   "outputs": [],
   "source": [
    "            To conduct a hypothesis test to determine if the drug is significantly effective at a 95% confidence level using a t-test,\n",
    "we can use the following steps:\n",
    "\n",
    "State the null hypothesis H0 and alternative hypothesis Ha.\n",
    "\n",
    "H0: The drug is not significantly effective.\n",
    "Ha: The drug is significantly effective.\n",
    "Determine the level of significance α = 0.05.\n",
    "\n",
    "Calculate the test statistic t using the formula:\n",
    "\n",
    "t = (x̄ - μ) / (s / √n)\n",
    "where x̄ is the sample mean (6 pounds), μ is the population mean (unknown), s is the sample standard deviation (2.5 pounds), and n is \n",
    "the sample size (50).\n",
    "\n",
    "Determine the degrees of freedom df = n - 1 = 49.\n",
    "\n",
    "Determine the critical value tα/2 with df = 49 and α = 0.05/2 = 0.025 using a t-table or calculator.\n",
    "\n",
    "Compare the calculated test statistic t with the critical value tα/2.\n",
    "\n",
    "If |t| > tα/2, reject H0 and conclude that Ha is true.\n",
    "If |t| ≤ tα/2, fail to reject H0.\n",
    "Interpret the result in context.\n",
    "\n",
    "            Using this method, we can calculate that t = (6 - μ) / (2.5 / √50) = 8.94431. With df = 49 and α = 0.025, we can find that\n",
    "tα/2 = ±2.00962. Since |t| > tα/2, we reject H0 and conclude that Ha is true at a 95% confidence level1. Therefore, we can say that \n",
    "there is evidence that the drug is significantly effective in weight loss."
   ]
  },
  {
   "cell_type": "code",
   "execution_count": null,
   "id": "0a194c3c-9f15-44a5-aa35-a7f70e0e1ac0",
   "metadata": {},
   "outputs": [],
   "source": []
  },
  {
   "cell_type": "code",
   "execution_count": null,
   "id": "20e66594-e6d9-412d-81ba-9852856b5d11",
   "metadata": {},
   "outputs": [],
   "source": []
  },
  {
   "cell_type": "code",
   "execution_count": null,
   "id": "91be52d8-d5bb-48dd-a3dc-9b256491e6e7",
   "metadata": {},
   "outputs": [],
   "source": [
    "Q11. In a survey of 500 people, 65% reported being satisfied with their current job. Calculate the 95%\n",
    "confidence interval for the true proportion of people who are satisfied with their job."
   ]
  },
  {
   "cell_type": "markdown",
   "id": "410f2a04-32f6-427b-9d28-e3f346f487ff",
   "metadata": {},
   "source": [
    "ANS -"
   ]
  },
  {
   "cell_type": "code",
   "execution_count": null,
   "id": "c062a788-8057-4e59-aed2-6087b84fc208",
   "metadata": {},
   "outputs": [],
   "source": [
    "          To calculate the 95% confidence interval for the true proportion of people who are satisfied with their job, we can use the \n",
    "following formula¹:\n",
    "\n",
    "Confidence Interval = p +/- z*√p (1-p) / n\n",
    "\n",
    "where:\n",
    "- p: sample proportion\n",
    "- z: the chosen z-value\n",
    "- n: sample size\n",
    "\n",
    "In this case, we have a sample size of 500 and a sample proportion of 0.65 (65%). To find the z-value for a 95% confidence interval,\n",
    "we can use a standard normal distribution table or calculator and find that z = 1.96.\n",
    "\n",
    "Confidence Interval = 0.65 +/- 1.96*√0.65(1-0.65) / 500\n",
    "\n",
    "Confidence Interval = [0.60, 0.70]\n",
    "\n",
    "Therefore, we can say with 95% confidence that the true proportion of people who are satisfied with their job is between 60% and 70%."
   ]
  },
  {
   "cell_type": "code",
   "execution_count": null,
   "id": "e5e4b3df-0952-4123-858a-f9f9c453e6fd",
   "metadata": {},
   "outputs": [],
   "source": []
  },
  {
   "cell_type": "code",
   "execution_count": null,
   "id": "f0462dd5-3151-4c81-b0a3-4b6079d7b607",
   "metadata": {},
   "outputs": [],
   "source": []
  },
  {
   "cell_type": "code",
   "execution_count": null,
   "id": "5e50a4e9-86d4-4be0-b71b-50ec10ad0bec",
   "metadata": {},
   "outputs": [],
   "source": [
    "Q12. A researcher is testing the effectiveness of two different teaching methods on student performance.\n",
    "Sample A has a mean score of 85 with a standard deviation of 6, while sample B has a mean score of 82\n",
    "with a standard deviation of 5. Conduct a hypothesis test to determine if the two teaching methods have a\n",
    "significant difference in student performance using a t-test with a significance level of 0.01."
   ]
  },
  {
   "cell_type": "code",
   "execution_count": null,
   "id": "7dced8e1-6135-45a0-a7c9-32e0155086dc",
   "metadata": {},
   "outputs": [],
   "source": [
    "ANS - "
   ]
  },
  {
   "cell_type": "code",
   "execution_count": null,
   "id": "2a6c81d7-dbe6-4a77-a295-b4d7cd1457c3",
   "metadata": {},
   "outputs": [],
   "source": [
    "To conduct a hypothesis test to determine if the two teaching methods have a significant difference in student performance using a \n",
    "t-test with a significance level of 0.01, we can use a two-sample t-test¹. \n",
    "\n",
    "The null hypothesis for a two-sample t-test is that the means of the two populations are equal, while the alternative hypothesis can\n",
    "be either two-tailed, left-tailed, or right-tailed¹. \n",
    "\n",
    "In this case, we can use a two-tailed alternative hypothesis since we want to determine if there is a significant difference between \n",
    "the two teaching methods¹. \n",
    "\n",
    "The formula for the two-sample t-test (a.k.a. the Student’s t-test) is shown below⁴:\n",
    "\n",
    "t = (x1 - x2) / sqrt(s1^2/n1 + s2^2/n2)\n",
    "\n",
    "where\n",
    "- t is the t value\n",
    "- x1 and x2 are the means of the two groups being compared\n",
    "- s1 and s2 are the standard deviations of each group\n",
    "- n1 and n2 are the sample sizes\n",
    "\n",
    "Using this formula, we can calculate the t value for our samples A and B as follows:\n",
    "\n",
    "t = (85 - 82) / sqrt(6^2/100 + 5^2/100) = 3 / sqrt(0.36 + 0.25) = 3 / sqrt(0.61) ≈ 3 / 0.78 ≈ 3.85\n",
    "\n",
    "The degrees of freedom for a two-sample t-test with equal variances can be calculated as follows:\n",
    "\n",
    "df = n1 + n2 - 2 = 100 + 100 - 2 = 198\n",
    "\n",
    "Using a t-table or calculator with a significance level of 0.01 and degrees of freedom of 198, we can find that the critical t-value \n",
    "is approximately ±2.58¹. Since our calculated t-value of 3.85 is greater than this critical value, we can reject the null hypothesis \n",
    "and conclude that there is a significant difference between the two teaching methods at a significance level of 0.01¹.\n",
    "\n",
    "Therefore, we can conclude that there is evidence to suggest that there is a significant difference in student performance between \n",
    "sample A and sample B using these two teaching methods⁵.\n",
    "\n"
   ]
  },
  {
   "cell_type": "code",
   "execution_count": null,
   "id": "8d7c5cb2-e034-4cc8-ac5d-3b1dba3e5a74",
   "metadata": {},
   "outputs": [],
   "source": []
  },
  {
   "cell_type": "code",
   "execution_count": null,
   "id": "5123ef41-26b3-446b-b4b8-d5b746e0ca5a",
   "metadata": {},
   "outputs": [],
   "source": []
  },
  {
   "cell_type": "code",
   "execution_count": null,
   "id": "15054af5-72a9-4cc1-9d59-7582fa9a5edc",
   "metadata": {},
   "outputs": [],
   "source": [
    "Q13. A population has a mean of 60 and a standard deviation of 8. A sample of 50 observations has a mean\n",
    "of 65. Calculate the 90% confidence interval for the true population mean."
   ]
  },
  {
   "cell_type": "markdown",
   "id": "7b699575-121e-4bb2-9ba9-b0220e77ae0e",
   "metadata": {},
   "source": [
    "ANS - "
   ]
  },
  {
   "cell_type": "code",
   "execution_count": null,
   "id": "7e191e5e-c08c-4822-847a-382297664680",
   "metadata": {},
   "outputs": [],
   "source": [
    "o calculate the 90% confidence interval for the true population mean, we can use the following formula:\n",
    "\n",
    "CI = X̄ ± Zα/2 * (σ/√n)\n",
    "\n",
    "where:\n",
    "\n",
    "CI is the confidence interval\n",
    "X̄ is the sample mean\n",
    "Zα/2 is the z-score for a 90% confidence level (1.645)\n",
    "σ is the population standard deviation\n",
    "n is the sample size\n",
    "Plugging in the values given in your question, we get:\n",
    "\n",
    "CI = 65 ± 1.645 * (8/√50)\n",
    "\n",
    "CI = [63.02, 66.98]\n",
    "\n",
    "Therefore, we can say with 90% confidence that the true population mean lies between 63.02 and 66.98."
   ]
  },
  {
   "cell_type": "code",
   "execution_count": null,
   "id": "2e118932-b707-4730-9a74-5129449842fb",
   "metadata": {},
   "outputs": [],
   "source": []
  },
  {
   "cell_type": "code",
   "execution_count": null,
   "id": "3e1bd767-c24d-4956-9e14-e2a09fee029a",
   "metadata": {},
   "outputs": [],
   "source": []
  },
  {
   "cell_type": "code",
   "execution_count": null,
   "id": "2020c0a6-f569-44a8-a786-8e051711ca62",
   "metadata": {},
   "outputs": [],
   "source": [
    "Q14. In a study of the effects of caffeine on reaction time, a sample of 30 participants had an average\n",
    "reaction time of 0.25 seconds with a standard deviation of 0.05 seconds. Conduct a hypothesis test to\n",
    "determine if the caffeine has a significant effect on reaction time at a 90% confidence level using a t-test."
   ]
  },
  {
   "cell_type": "markdown",
   "id": "abefb6ee-3e16-4be9-8d6c-afd6386c2e09",
   "metadata": {},
   "source": [
    "ANS - "
   ]
  },
  {
   "cell_type": "code",
   "execution_count": null,
   "id": "07263959-f1fa-4446-ac3c-8308b014c2d3",
   "metadata": {},
   "outputs": [],
   "source": [
    "To conduct a hypothesis test to determine if caffeine has a significant effect on reaction time at a 90% confidence level using a\n",
    "t-test, we need to follow these steps:\n",
    "\n",
    "State the null hypothesis H0 and alternative hypothesis Ha.\n",
    "\n",
    "Determine the level of significance α.\n",
    "\n",
    "Calculate the test statistic t using the formula: t = (x̄ - μ) / (s / √n) where x̄ is the sample mean, μ is the population mean under \n",
    "H0, s is the sample standard deviation, and n is the sample size.\n",
    "Determine the critical value tc using a t-distribution table with n - 1 degrees of freedom and α/2 significance level.\n",
    "Compare t and tc values and make a decision.\n",
    "In this case, we have:\n",
    "\n",
    "H0: Caffeine has no significant effect on reaction time\n",
    "Ha: Caffeine has a significant effect on reaction time\n",
    "α = 0.1 (90% confidence level)\n",
    "x̄ = 0.25 seconds\n",
    "μ = ?\n",
    "s = 0.05 seconds\n",
    "n = 30\n",
    "We don’t know what μ is, so we assume it’s equal to x̄ under H0.\n",
    "\n",
    "t = (x̄ - μ) / (s / √n) = (0.25 - 0) / (0.05 / √30) ≈ 8.66\n",
    "\n",
    "The critical value tc with 29 degrees of freedom and α/2 = 0.05 is approximately ±1.699.\n",
    "\n",
    "Since |t| > tc, we reject H0 and conclude that caffeine has a significant effect on reaction time at a 90% confidence level."
   ]
  }
 ],
 "metadata": {
  "kernelspec": {
   "display_name": "Python 3 (ipykernel)",
   "language": "python",
   "name": "python3"
  },
  "language_info": {
   "codemirror_mode": {
    "name": "ipython",
    "version": 3
   },
   "file_extension": ".py",
   "mimetype": "text/x-python",
   "name": "python",
   "nbconvert_exporter": "python",
   "pygments_lexer": "ipython3",
   "version": "3.10.8"
  }
 },
 "nbformat": 4,
 "nbformat_minor": 5
}
